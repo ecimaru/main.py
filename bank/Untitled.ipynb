{
 "cells": [
  {
   "cell_type": "code",
   "execution_count": 93,
   "id": "3f5fe8cd",
   "metadata": {},
   "outputs": [
    {
     "name": "stdout",
     "output_type": "stream",
     "text": [
      "  a_id password c_id  amount\n",
      "0  11a      11p   1c     100\n",
      "1  12a      12p   1c     400\n",
      "2  21a      21p   2c    2000\n",
      "3  31a      31p   3c   10000\n",
      "4  32a      32p   3c   20000\n",
      "5  33a      33p   3c   20000\n",
      "6  41a      41p   4c  100000\n",
      "7  42a      42p   4c   50000\n",
      "8  43a      43p   4c   20000\n",
      "9  44a      44p   4c   30000\n"
     ]
    }
   ],
   "source": [
    "import pandas as pd\n",
    "\n",
    "\n",
    "c_df = pd.read_csv('./customers.csv')\n",
    "c_df.set_index('c_id')\n",
    "a_df = pd.read_csv('./accounts.csv')\n",
    "a_df.set_index('a_id' ,drop = False)\n",
    "\n",
    "print(a_df)\n",
    "\n",
    "# print(a_df.loc['11a','amount'])\n",
    "\n",
    "\n",
    "\n"
   ]
  },
  {
   "cell_type": "code",
   "execution_count": 95,
   "id": "694f51c9",
   "metadata": {},
   "outputs": [
    {
     "name": "stdout",
     "output_type": "stream",
     "text": [
      "  a_id password c_id  amount\n",
      "0  11a      11p   1c     100\n",
      "1  12a      12p   1c     400\n",
      "2  21a      21p   2c    2000\n",
      "3  31a      31p   3c   10000\n",
      "4  32a      32p   3c   20000\n",
      "5  33a      33p   3c   20000\n",
      "6  41a      41p   4c  100000\n",
      "7  42a      42p   4c   50000\n",
      "8  43a      43p   4c   20000\n",
      "9  44a      44p   4c   30000\n"
     ]
    }
   ],
   "source": [
    "a_df2 = pd.read_csv('./accounts.csv')\n",
    "a_df2.set_index('a_id' ,drop = True)\n",
    "\n",
    "print(a_df2)"
   ]
  },
  {
   "cell_type": "code",
   "execution_count": null,
   "id": "d7ef916a",
   "metadata": {},
   "outputs": [],
   "source": []
  }
 ],
 "metadata": {
  "kernelspec": {
   "display_name": "Python 3 (ipykernel)",
   "language": "python",
   "name": "python3"
  },
  "language_info": {
   "codemirror_mode": {
    "name": "ipython",
    "version": 3
   },
   "file_extension": ".py",
   "mimetype": "text/x-python",
   "name": "python",
   "nbconvert_exporter": "python",
   "pygments_lexer": "ipython3",
   "version": "3.10.8"
  }
 },
 "nbformat": 4,
 "nbformat_minor": 5
}
