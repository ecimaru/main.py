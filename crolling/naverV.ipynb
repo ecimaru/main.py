{
 "cells": [
  {
   "cell_type": "code",
   "execution_count": 31,
   "id": "830cbb94",
   "metadata": {},
   "outputs": [
    {
     "name": "stderr",
     "output_type": "stream",
     "text": [
      "C:\\Users\\SBAUser\\AppData\\Local\\Temp\\ipykernel_19400\\2776433379.py:16: DeprecationWarning: executable_path has been deprecated, please pass in a Service object\n",
      "  driver = webdriver.Chrome('./chromedriver.exe', options = options)\n"
     ]
    }
   ],
   "source": [
    "from selenium import webdriver\n",
    "from selenium.webdriver.common.by import By\n",
    "from time import sleep\n",
    "import random\n",
    "import pandas as pd\n",
    "\n",
    "options = webdriver.ChromeOptions()\n",
    "where = 'blog'\n",
    "query = '인공지능'\n",
    "\n",
    "user_agent = \"Mozilla/5.0 (Windows NT 10.0; Win64; x64) AppleWebKit/537.36 (KHTML, like Gecko) Chrome102.0.5005.115 Safari/537.36\"\n",
    "options.add_argument('user-agent=' + user_agent)\n",
    "options.add_argument(\"window-size=1200,800\")\n",
    "\n",
    "# 웹드라이버 로드\n",
    "driver = webdriver.Chrome('./chromedriver.exe', options = options)\n",
    "url = 'https://www.naver.com/'\n",
    "driver.get(url)\n",
    "sleep(random.randint(1, 2))\n",
    "\n"
   ]
  },
  {
   "cell_type": "code",
   "execution_count": 32,
   "id": "433a1a5f",
   "metadata": {},
   "outputs": [
    {
     "name": "stderr",
     "output_type": "stream",
     "text": [
      "C:\\Users\\SBAUser\\AppData\\Local\\Temp\\ipykernel_19400\\91997406.py:10: DeprecationWarning: executable_path has been deprecated, please pass in a Service object\n",
      "  driver = webdriver.Chrome('./chromedriver.exe',options = options)\n"
     ]
    },
    {
     "name": "stdout",
     "output_type": "stream",
     "text": [
      "li.sp_blog_0\n"
     ]
    },
    {
     "ename": "NoSuchElementException",
     "evalue": "Message: no such element: Unable to locate element: {\"method\":\"css selector\",\"selector\":\"li.sp_blog_0\"}\n  (Session info: chrome=107.0.5304.107)\nStacktrace:\nBacktrace:\n\tOrdinal0 [0x004D8CE3+2067683]\n\tOrdinal0 [0x0046CBC1+1625025]\n\tOrdinal0 [0x0036B7CD+571341]\n\tOrdinal0 [0x0039AC4F+765007]\n\tOrdinal0 [0x0039AE3B+765499]\n\tOrdinal0 [0x003CD122+971042]\n\tOrdinal0 [0x003B7384+881540]\n\tOrdinal0 [0x003CB576+963958]\n\tOrdinal0 [0x003B7156+880982]\n\tOrdinal0 [0x0038FF1D+720669]\n\tOrdinal0 [0x00390F5F+724831]\n\tGetHandleVerifier [0x0078F162+2771330]\n\tGetHandleVerifier [0x00781145+2713957]\n\tGetHandleVerifier [0x0056CC0A+533546]\n\tGetHandleVerifier [0x0056B970+528784]\n\tOrdinal0 [0x00474F4C+1658700]\n\tOrdinal0 [0x004798B8+1677496]\n\tOrdinal0 [0x004799A5+1677733]\n\tOrdinal0 [0x00484CC4+1723588]\n\tBaseThreadInitThunk [0x763E7BA9+25]\n\tRtlInitializeExceptionChain [0x77D4BB9B+107]\n\tRtlClearBits [0x77D4BB1F+191]\n",
     "output_type": "error",
     "traceback": [
      "\u001b[1;31m---------------------------------------------------------------------------\u001b[0m",
      "\u001b[1;31mNoSuchElementException\u001b[0m                    Traceback (most recent call last)",
      "Cell \u001b[1;32mIn [32], line 19\u001b[0m\n\u001b[0;32m     17\u001b[0m \u001b[38;5;28;01mfor\u001b[39;00m i \u001b[38;5;129;01min\u001b[39;00m \u001b[38;5;28mrange\u001b[39m(\u001b[38;5;241m10\u001b[39m):    \n\u001b[0;32m     18\u001b[0m     \u001b[38;5;28mprint\u001b[39m(\u001b[38;5;124m'\u001b[39m\u001b[38;5;124mli.sp_blog_\u001b[39m\u001b[38;5;124m'\u001b[39m\u001b[38;5;241m+\u001b[39m\u001b[38;5;28mstr\u001b[39m(i))\n\u001b[1;32m---> 19\u001b[0m     element \u001b[38;5;241m=\u001b[39m \u001b[43mdriver\u001b[49m\u001b[38;5;241;43m.\u001b[39;49m\u001b[43mfind_element\u001b[49m\u001b[43m(\u001b[49m\u001b[43mBy\u001b[49m\u001b[38;5;241;43m.\u001b[39;49m\u001b[43mCSS_SELECTOR\u001b[49m\u001b[43m,\u001b[49m\u001b[43m \u001b[49m\u001b[38;5;124;43m'\u001b[39;49m\u001b[38;5;124;43mli.sp_blog_\u001b[39;49m\u001b[38;5;124;43m'\u001b[39;49m\u001b[38;5;241;43m+\u001b[39;49m\u001b[38;5;28;43mstr\u001b[39;49m\u001b[43m(\u001b[49m\u001b[43mi\u001b[49m\u001b[43m)\u001b[49m\u001b[43m)\u001b[49m\n\u001b[0;32m     20\u001b[0m     \u001b[38;5;124m\"\u001b[39m\u001b[38;5;124mwindow.scrollTo(0,document.body.scrollHeight);\u001b[39m\u001b[38;5;124m\"\u001b[39m\n\u001b[0;32m     21\u001b[0m     \u001b[38;5;28mprint\u001b[39m(element)\n",
      "File \u001b[1;32m~\\AppData\\Local\\Programs\\Python\\Python310\\lib\\site-packages\\selenium\\webdriver\\remote\\webdriver.py:861\u001b[0m, in \u001b[0;36mWebDriver.find_element\u001b[1;34m(self, by, value)\u001b[0m\n\u001b[0;32m    858\u001b[0m     by \u001b[38;5;241m=\u001b[39m By\u001b[38;5;241m.\u001b[39mCSS_SELECTOR\n\u001b[0;32m    859\u001b[0m     value \u001b[38;5;241m=\u001b[39m \u001b[38;5;124m'\u001b[39m\u001b[38;5;124m[name=\u001b[39m\u001b[38;5;124m\"\u001b[39m\u001b[38;5;132;01m%s\u001b[39;00m\u001b[38;5;124m\"\u001b[39m\u001b[38;5;124m]\u001b[39m\u001b[38;5;124m'\u001b[39m \u001b[38;5;241m%\u001b[39m value\n\u001b[1;32m--> 861\u001b[0m \u001b[38;5;28;01mreturn\u001b[39;00m \u001b[38;5;28;43mself\u001b[39;49m\u001b[38;5;241;43m.\u001b[39;49m\u001b[43mexecute\u001b[49m\u001b[43m(\u001b[49m\u001b[43mCommand\u001b[49m\u001b[38;5;241;43m.\u001b[39;49m\u001b[43mFIND_ELEMENT\u001b[49m\u001b[43m,\u001b[49m\u001b[43m \u001b[49m\u001b[43m{\u001b[49m\u001b[38;5;124;43m\"\u001b[39;49m\u001b[38;5;124;43musing\u001b[39;49m\u001b[38;5;124;43m\"\u001b[39;49m\u001b[43m:\u001b[49m\u001b[43m \u001b[49m\u001b[43mby\u001b[49m\u001b[43m,\u001b[49m\u001b[43m \u001b[49m\u001b[38;5;124;43m\"\u001b[39;49m\u001b[38;5;124;43mvalue\u001b[39;49m\u001b[38;5;124;43m\"\u001b[39;49m\u001b[43m:\u001b[49m\u001b[43m \u001b[49m\u001b[43mvalue\u001b[49m\u001b[43m}\u001b[49m\u001b[43m)\u001b[49m[\u001b[38;5;124m\"\u001b[39m\u001b[38;5;124mvalue\u001b[39m\u001b[38;5;124m\"\u001b[39m]\n",
      "File \u001b[1;32m~\\AppData\\Local\\Programs\\Python\\Python310\\lib\\site-packages\\selenium\\webdriver\\remote\\webdriver.py:444\u001b[0m, in \u001b[0;36mWebDriver.execute\u001b[1;34m(self, driver_command, params)\u001b[0m\n\u001b[0;32m    442\u001b[0m response \u001b[38;5;241m=\u001b[39m \u001b[38;5;28mself\u001b[39m\u001b[38;5;241m.\u001b[39mcommand_executor\u001b[38;5;241m.\u001b[39mexecute(driver_command, params)\n\u001b[0;32m    443\u001b[0m \u001b[38;5;28;01mif\u001b[39;00m response:\n\u001b[1;32m--> 444\u001b[0m     \u001b[38;5;28;43mself\u001b[39;49m\u001b[38;5;241;43m.\u001b[39;49m\u001b[43merror_handler\u001b[49m\u001b[38;5;241;43m.\u001b[39;49m\u001b[43mcheck_response\u001b[49m\u001b[43m(\u001b[49m\u001b[43mresponse\u001b[49m\u001b[43m)\u001b[49m\n\u001b[0;32m    445\u001b[0m     response[\u001b[38;5;124m\"\u001b[39m\u001b[38;5;124mvalue\u001b[39m\u001b[38;5;124m\"\u001b[39m] \u001b[38;5;241m=\u001b[39m \u001b[38;5;28mself\u001b[39m\u001b[38;5;241m.\u001b[39m_unwrap_value(response\u001b[38;5;241m.\u001b[39mget(\u001b[38;5;124m\"\u001b[39m\u001b[38;5;124mvalue\u001b[39m\u001b[38;5;124m\"\u001b[39m, \u001b[38;5;28;01mNone\u001b[39;00m))\n\u001b[0;32m    446\u001b[0m     \u001b[38;5;28;01mreturn\u001b[39;00m response\n",
      "File \u001b[1;32m~\\AppData\\Local\\Programs\\Python\\Python310\\lib\\site-packages\\selenium\\webdriver\\remote\\errorhandler.py:249\u001b[0m, in \u001b[0;36mErrorHandler.check_response\u001b[1;34m(self, response)\u001b[0m\n\u001b[0;32m    247\u001b[0m         alert_text \u001b[38;5;241m=\u001b[39m value[\u001b[38;5;124m\"\u001b[39m\u001b[38;5;124malert\u001b[39m\u001b[38;5;124m\"\u001b[39m]\u001b[38;5;241m.\u001b[39mget(\u001b[38;5;124m\"\u001b[39m\u001b[38;5;124mtext\u001b[39m\u001b[38;5;124m\"\u001b[39m)\n\u001b[0;32m    248\u001b[0m     \u001b[38;5;28;01mraise\u001b[39;00m exception_class(message, screen, stacktrace, alert_text)  \u001b[38;5;66;03m# type: ignore[call-arg]  # mypy is not smart enough here\u001b[39;00m\n\u001b[1;32m--> 249\u001b[0m \u001b[38;5;28;01mraise\u001b[39;00m exception_class(message, screen, stacktrace)\n",
      "\u001b[1;31mNoSuchElementException\u001b[0m: Message: no such element: Unable to locate element: {\"method\":\"css selector\",\"selector\":\"li.sp_blog_0\"}\n  (Session info: chrome=107.0.5304.107)\nStacktrace:\nBacktrace:\n\tOrdinal0 [0x004D8CE3+2067683]\n\tOrdinal0 [0x0046CBC1+1625025]\n\tOrdinal0 [0x0036B7CD+571341]\n\tOrdinal0 [0x0039AC4F+765007]\n\tOrdinal0 [0x0039AE3B+765499]\n\tOrdinal0 [0x003CD122+971042]\n\tOrdinal0 [0x003B7384+881540]\n\tOrdinal0 [0x003CB576+963958]\n\tOrdinal0 [0x003B7156+880982]\n\tOrdinal0 [0x0038FF1D+720669]\n\tOrdinal0 [0x00390F5F+724831]\n\tGetHandleVerifier [0x0078F162+2771330]\n\tGetHandleVerifier [0x00781145+2713957]\n\tGetHandleVerifier [0x0056CC0A+533546]\n\tGetHandleVerifier [0x0056B970+528784]\n\tOrdinal0 [0x00474F4C+1658700]\n\tOrdinal0 [0x004798B8+1677496]\n\tOrdinal0 [0x004799A5+1677733]\n\tOrdinal0 [0x00484CC4+1723588]\n\tBaseThreadInitThunk [0x763E7BA9+25]\n\tRtlInitializeExceptionChain [0x77D4BB9B+107]\n\tRtlClearBits [0x77D4BB1F+191]\n"
     ]
    }
   ],
   "source": [
    "\n",
    "dateform = '20221001to20221101'\n",
    "\n",
    "fname = '{}_{}_{}'.format(where, query, dateform)\n",
    "\n",
    "url = 'https://search.naver.com/search.naver?query={}&nso=so%3Ar%2Cp%3Afrom{}%2Ca%3Aall&where={}&sm=tab_opt'\\\n",
    "    .format(query, dateform, where)\n",
    "\n",
    "\n",
    "#url 접속\n",
    "driver = webdriver.Chrome('./chromedriver.exe',options = options)\n",
    "driver.get(url)\n",
    "sleep(random.randint(2,3))\n",
    "\n",
    "\n",
    "\n",
    "#드래그 10번\n",
    "for i in range(10):    \n",
    "    print('li.sp_blog_'+str(i))\n",
    "    element = driver.find_element(By.CSS_SELECTOR, 'li.sp_blog_'+str(i))\n",
    "    \"window.scrollTo(0,document.body.scrollHeight);\"\n",
    "    print(element)"
   ]
  },
  {
   "cell_type": "code",
   "execution_count": 4,
   "id": "77bc9c81",
   "metadata": {},
   "outputs": [
    {
     "ename": "SyntaxError",
     "evalue": "invalid syntax (1883781352.py, line 2)",
     "output_type": "error",
     "traceback": [
      "\u001b[1;36m  Cell \u001b[1;32mIn [4], line 2\u001b[1;36m\u001b[0m\n\u001b[1;33m    lt = driver.find_element(By.CSS_SELECTOR, ~)\u001b[0m\n\u001b[1;37m                                               ^\u001b[0m\n\u001b[1;31mSyntaxError\u001b[0m\u001b[1;31m:\u001b[0m invalid syntax\n"
     ]
    }
   ],
   "source": [
    "# 게시물이 담긴 리스트 태그를 요소로 찾아옴\n",
    "lt = driver.find_element(By.CSS_SELECTOR, ~)\n",
    "views = lt.find_elements(By.XPATH, 'child::li')\n",
    "# 페이지의 모든 게시물의 제목, 요약내용, 날짜를 다음과 같은 리스트로 저장\n",
    "#[{'title', 'text', 'date'},...]\n",
    "~\n",
    "        \n"
   ]
  },
  {
   "cell_type": "code",
   "execution_count": null,
   "id": "ef52eaf7",
   "metadata": {},
   "outputs": [],
   "source": [
    "#저장된 게시물 리스트를 데이터프레임으로 변환후 csv로 저장\n"
   ]
  },
  {
   "cell_type": "code",
   "execution_count": null,
   "id": "5114d2af",
   "metadata": {},
   "outputs": [],
   "source": [
    "#데이터 프레임 출력"
   ]
  }
 ],
 "metadata": {
  "kernelspec": {
   "display_name": "Python 3 (ipykernel)",
   "language": "python",
   "name": "python3"
  },
  "language_info": {
   "codemirror_mode": {
    "name": "ipython",
    "version": 3
   },
   "file_extension": ".py",
   "mimetype": "text/x-python",
   "name": "python",
   "nbconvert_exporter": "python",
   "pygments_lexer": "ipython3",
   "version": "3.10.8"
  }
 },
 "nbformat": 4,
 "nbformat_minor": 5
}
