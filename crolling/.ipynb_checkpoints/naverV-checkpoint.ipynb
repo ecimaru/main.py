{
 "cells": [
  {
   "cell_type": "code",
   "execution_count": 1,
   "id": "830cbb94",
   "metadata": {},
   "outputs": [],
   "source": [
    "from selenium import webdriver\n",
    "from selenium.webdriver.common.by import By\n",
    "from time import sleep\n",
    "import random\n",
    "import pandas as pd\n",
    "\n",
    "options = webdriver.ChromeOptions()\n",
    "where = 'blog'\n",
    "query = '인공지능'\n",
    "\n",
    "user_agent = \"Mozilla/5.0 (Windows NT 10.0; Win64; x64) AppleWebKit/537.36 (KHTML, like Gecko) Chrome102.0.5005.115 Safari/537.36\"\n",
    "options.add_argument('user-agent=' + user_agent)\n",
    "options.add_argument(\"window-size=1200,800\")\n",
    "\n",
    "# 웹드라이버 로드\n",
    "driver = webdriver.Chrome('./chromedriver.exe', options = options)\n",
    "url = 'https://play.google.com/store/apps/details?id=com.coupang.mobile.play'\n",
    "driver.get(url)\n",
    "sleep(random.randint(1, 2))\n",
    "\n"
   ]
  },
  {
   "cell_type": "code",
   "execution_count": 8,
   "id": "433a1a5f",
   "metadata": {},
   "outputs": [
    {
     "name": "stdout",
     "output_type": "stream",
     "text": [
      "2\n"
     ]
    },
    {
     "ename": "KeyboardInterrupt",
     "evalue": "",
     "output_type": "error",
     "traceback": [
      "\u001b[1;31m---------------------------------------------------------------------------\u001b[0m",
      "\u001b[1;31mKeyboardInterrupt\u001b[0m                         Traceback (most recent call last)",
      "\u001b[1;32m~\\AppData\\Local\\Temp/ipykernel_28644/142418611.py\u001b[0m in \u001b[0;36m<module>\u001b[1;34m\u001b[0m\n\u001b[0;32m     16\u001b[0m     \u001b[1;32mfor\u001b[0m \u001b[0mi\u001b[0m \u001b[1;32min\u001b[0m \u001b[0mrange\u001b[0m\u001b[1;33m(\u001b[0m\u001b[1;36m100\u001b[0m\u001b[1;33m)\u001b[0m\u001b[1;33m:\u001b[0m\u001b[1;33m\u001b[0m\u001b[1;33m\u001b[0m\u001b[0m\n\u001b[0;32m     17\u001b[0m         \u001b[0mdriver\u001b[0m\u001b[1;33m.\u001b[0m\u001b[0mexecute_script\u001b[0m\u001b[1;33m(\u001b[0m\u001b[1;34m\"window.scrollTo(0, document.body.scrollHeight);\"\u001b[0m\u001b[1;33m)\u001b[0m\u001b[1;33m\u001b[0m\u001b[1;33m\u001b[0m\u001b[0m\n\u001b[1;32m---> 18\u001b[1;33m         \u001b[0msleep\u001b[0m\u001b[1;33m(\u001b[0m\u001b[1;36m1\u001b[0m\u001b[1;33m)\u001b[0m\u001b[1;33m\u001b[0m\u001b[1;33m\u001b[0m\u001b[0m\n\u001b[0m\u001b[0;32m     19\u001b[0m         \u001b[0mlt\u001b[0m \u001b[1;33m=\u001b[0m \u001b[0mdriver\u001b[0m\u001b[1;33m.\u001b[0m\u001b[0mfind_element\u001b[0m\u001b[1;33m(\u001b[0m\u001b[0mBy\u001b[0m\u001b[1;33m.\u001b[0m\u001b[0mCSS_SELECTOR\u001b[0m\u001b[1;33m,\u001b[0m \u001b[1;34m'ul.lst_total'\u001b[0m\u001b[1;33m)\u001b[0m\u001b[1;33m\u001b[0m\u001b[1;33m\u001b[0m\u001b[0m\n\u001b[0;32m     20\u001b[0m \u001b[1;31m#         print(len(lt.find_elements(By.XPATH, 'child::li')))\u001b[0m\u001b[1;33m\u001b[0m\u001b[1;33m\u001b[0m\u001b[1;33m\u001b[0m\u001b[0m\n",
      "\u001b[1;31mKeyboardInterrupt\u001b[0m: "
     ]
    }
   ],
   "source": [
    "\n",
    "dateform = '20221001to20221101'\n",
    "\n",
    "fname = '{}_{}_{}'.format(where, query, dateform)\n",
    "\n",
    "url = 'https://search.naver.com/search.naver?query={}&nso=so%3Ar%2Cp%3Afrom{}%2Ca%3Aall&where={}&sm=tab_opt'\\\n",
    "    .format(query, dateform, where)\n",
    "\n",
    "#url 접속\n",
    "~ \n",
    "sleep(random.randint(2,3))\n",
    "\n",
    "#드래그 10번\n",
    "for i in range(10):\n",
    "    ~\n"
   ]
  },
  {
   "cell_type": "code",
   "execution_count": null,
   "id": "77bc9c81",
   "metadata": {},
   "outputs": [],
   "source": [
    "# 게시물이 담긴 리스트 태그를 요소로 찾아옴\n",
    "lt = driver.find_element(By.CSS_SELECTOR, ~)\n",
    "views = lt.find_elements(By.XPATH, 'child::li')\n",
    "# 페이지의 모든 게시물의 제목, 요약내용, 날짜를 다음과 같은 리스트로 저장\n",
    "#[{'title', 'text', 'date'},...]\n",
    "~\n",
    "        \n"
   ]
  },
  {
   "cell_type": "code",
   "execution_count": null,
   "id": "ef52eaf7",
   "metadata": {},
   "outputs": [],
   "source": [
    "#저장된 게시물 리스트를 데이터프레임으로 변환후 csv로 저장\n"
   ]
  },
  {
   "cell_type": "code",
   "execution_count": null,
   "id": "5114d2af",
   "metadata": {},
   "outputs": [],
   "source": [
    "#데이터 프레임 출력"
   ]
  }
 ],
 "metadata": {
  "kernelspec": {
   "display_name": "Python 3 (ipykernel)",
   "language": "python",
   "name": "python3"
  },
  "language_info": {
   "codemirror_mode": {
    "name": "ipython",
    "version": 3
   },
   "file_extension": ".py",
   "mimetype": "text/x-python",
   "name": "python",
   "nbconvert_exporter": "python",
   "pygments_lexer": "ipython3",
   "version": "3.10.8"
  }
 },
 "nbformat": 4,
 "nbformat_minor": 5
}
